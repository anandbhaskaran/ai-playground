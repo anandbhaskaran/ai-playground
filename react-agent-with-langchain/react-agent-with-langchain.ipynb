{
 "cells": [
  {
   "cell_type": "code",
   "id": "initial_id",
   "metadata": {
    "collapsed": true,
    "ExecuteTime": {
     "end_time": "2025-04-12T14:45:02.551760Z",
     "start_time": "2025-04-12T14:45:02.548857Z"
    }
   },
   "source": [
    "from dotenv import load_dotenv, find_dotenv\n",
    "_ = load_dotenv(find_dotenv())"
   ],
   "outputs": [],
   "execution_count": 22
  },
  {
   "metadata": {
    "ExecuteTime": {
     "end_time": "2025-04-12T14:45:02.975595Z",
     "start_time": "2025-04-12T14:45:02.972769Z"
    }
   },
   "cell_type": "code",
   "source": [
    "from langgraph.graph import StateGraph, END\n",
    "from typing import TypedDict, Annotated\n",
    "import operator\n",
    "from langchain_core.messages import AnyMessage, SystemMessage, HumanMessage, ToolMessage\n",
    "from langchain_openai import ChatOpenAI\n",
    "from langchain_community.tools.tavily_search import TavilySearchResults"
   ],
   "id": "553c436d9d8dbe79",
   "outputs": [],
   "execution_count": 23
  },
  {
   "metadata": {
    "ExecuteTime": {
     "end_time": "2025-04-12T14:45:03.456052Z",
     "start_time": "2025-04-12T14:45:03.453957Z"
    }
   },
   "cell_type": "code",
   "source": [
    "tool = TavilySearchResults(max_results=4)\n",
    "print(type(tool))\n",
    "print(tool.name)"
   ],
   "id": "82f52ba59dd06bf",
   "outputs": [
    {
     "name": "stdout",
     "output_type": "stream",
     "text": [
      "<class 'langchain_community.tools.tavily_search.tool.TavilySearchResults'>\n",
      "tavily_search_results_json\n"
     ]
    }
   ],
   "execution_count": 24
  },
  {
   "metadata": {
    "ExecuteTime": {
     "end_time": "2025-04-12T14:45:03.924831Z",
     "start_time": "2025-04-12T14:45:03.923020Z"
    }
   },
   "cell_type": "code",
   "source": [
    "class AgentState(TypedDict):\n",
    "    messages: Annotated[list[AnyMessage], operator.add]"
   ],
   "id": "1b8c8e820db4dd98",
   "outputs": [],
   "execution_count": 25
  },
  {
   "metadata": {
    "ExecuteTime": {
     "end_time": "2025-04-12T14:45:04.434208Z",
     "start_time": "2025-04-12T14:45:04.428892Z"
    }
   },
   "cell_type": "code",
   "source": [
    "class Agent:\n",
    "\n",
    "    def __init__(self, model, tools, system=\"\"):\n",
    "        self.system = system\n",
    "        graph = StateGraph(AgentState)\n",
    "        graph.add_node(\"llm\", self.call_openai)\n",
    "        graph.add_node(\"action\", self.take_action)\n",
    "        graph.add_conditional_edges(\n",
    "            \"llm\",\n",
    "            self.exists_action,\n",
    "            {True: \"action\", False: END}\n",
    "        )\n",
    "        graph.add_edge(\"action\", \"llm\")\n",
    "        graph.set_entry_point(\"llm\")\n",
    "        \n",
    "        # Returns a runnable graph\n",
    "        self.graph = graph.compile()\n",
    "        # Let model know about tools\n",
    "        self.tools = {t.name: t for t in tools}\n",
    "        self.model = model.bind_tools(tools)\n",
    "\n",
    "    def exists_action(self, state: AgentState):\n",
    "        result = state['messages'][-1]\n",
    "        return len(result.tool_calls) > 0\n",
    "\n",
    "    def call_openai(self, state: AgentState):\n",
    "        messages = state['messages']\n",
    "        if self.system:\n",
    "            messages = [SystemMessage(content=self.system)] + messages\n",
    "        message = self.model.invoke(messages)\n",
    "        return {'messages': [message]}\n",
    "\n",
    "    def take_action(self, state: AgentState):\n",
    "        tool_calls = state['messages'][-1].tool_calls\n",
    "        results = []\n",
    "        for t in tool_calls:\n",
    "            print(f\"Calling: {t}\")\n",
    "            if not t['name'] in self.tools:      # check for bad tool name from LLM\n",
    "                print(\"\\n ....bad tool name....\")\n",
    "                result = \"bad tool name, retry\"  # instruct LLM to retry if bad\n",
    "            else:\n",
    "                result = self.tools[t['name']].invoke(t['args'])\n",
    "            results.append(ToolMessage(tool_call_id=t['id'], name=t['name'], content=str(result)))\n",
    "        print(\"Back to the model!\")\n",
    "        return {'messages': results}"
   ],
   "id": "49185932b4c1cf3e",
   "outputs": [],
   "execution_count": 26
  },
  {
   "metadata": {
    "ExecuteTime": {
     "end_time": "2025-04-12T14:45:05.393033Z",
     "start_time": "2025-04-12T14:45:05.369279Z"
    }
   },
   "cell_type": "code",
   "source": [
    "prompt = \"\"\"You are a smart research assistant. Use the search engine to look up information. \\\n",
    "You are allowed to make multiple calls (either together or in sequence). \\\n",
    "Only look up information when you are sure of what you want. \\\n",
    "If you need to look up some information before asking a follow up question, you are allowed to do that!\n",
    "\"\"\"\n",
    "\n",
    "model = ChatOpenAI(model=\"gpt-3.5-turbo\")  #reduce inference cost\n",
    "abot = Agent(model, [tool], system=prompt)"
   ],
   "id": "b4b087e923ea8ae4",
   "outputs": [],
   "execution_count": 27
  },
  {
   "metadata": {
    "ExecuteTime": {
     "end_time": "2025-04-12T14:45:06.746597Z",
     "start_time": "2025-04-12T14:45:06.745129Z"
    }
   },
   "cell_type": "code",
   "source": [
    "# This did not work as there was issue with installing pugraphviz\n",
    "#from IPython.display import Image\n",
    "#Image(abot.graph.get_graph().draw_png())"
   ],
   "id": "a128976a00bb97ff",
   "outputs": [],
   "execution_count": 28
  },
  {
   "metadata": {
    "ExecuteTime": {
     "end_time": "2025-04-12T14:45:15.248610Z",
     "start_time": "2025-04-12T14:45:08.946938Z"
    }
   },
   "cell_type": "code",
   "source": [
    "messages = [HumanMessage(content=\"What is the weather in Zurich?\")]\n",
    "result = abot.graph.invoke({\"messages\": messages})"
   ],
   "id": "19bd05cd40e816e3",
   "outputs": [
    {
     "name": "stdout",
     "output_type": "stream",
     "text": [
      "Calling: {'name': 'tavily_search_results_json', 'args': {'query': 'weather in Zurich'}, 'id': 'call_QklCTj52qRxD6PGGoaCzvGdG', 'type': 'tool_call'}\n",
      "Back to the model!\n"
     ]
    }
   ],
   "execution_count": 29
  },
  {
   "metadata": {
    "ExecuteTime": {
     "end_time": "2025-04-12T14:45:15.253540Z",
     "start_time": "2025-04-12T14:45:15.250512Z"
    }
   },
   "cell_type": "code",
   "source": "print(result['messages'][-1].content)\n",
   "id": "6202d25aca8585c5",
   "outputs": [
    {
     "name": "stdout",
     "output_type": "stream",
     "text": [
      "The current weather in Zurich is partly cloudy with a temperature of 20.3°C (68.5°F). The wind speed is 3.4 mph from the west direction. The humidity is at 40%, and the visibility is 10.0 km (6.0 miles).\n"
     ]
    }
   ],
   "execution_count": 30
  },
  {
   "metadata": {
    "ExecuteTime": {
     "end_time": "2025-04-12T12:46:18.702184Z",
     "start_time": "2025-04-12T12:46:07.062163Z"
    }
   },
   "cell_type": "code",
   "source": [
    "messages = [HumanMessage(content=\"What is the weather in Zurich and Berlin?\")]\n",
    "result = abot.graph.invoke({\"messages\": messages})"
   ],
   "id": "d5683e9b24e74f3a",
   "outputs": [
    {
     "name": "stdout",
     "output_type": "stream",
     "text": [
      "Calling: {'name': 'tavily_search_results_json', 'args': {'query': 'weather in Zurich'}, 'id': 'call_xefqQVqpSZxWecFHhpvhxxYB', 'type': 'tool_call'}\n",
      "Calling: {'name': 'tavily_search_results_json', 'args': {'query': 'weather in Berlin'}, 'id': 'call_1LhZUxLFtAnPjexfcZgSJpTc', 'type': 'tool_call'}\n",
      "Back to the model!\n"
     ]
    }
   ],
   "execution_count": 19
  },
  {
   "metadata": {
    "ExecuteTime": {
     "end_time": "2025-04-12T12:46:31.609150Z",
     "start_time": "2025-04-12T12:46:31.607005Z"
    }
   },
   "cell_type": "code",
   "source": "print(result['messages'][-1].content)",
   "id": "99f43d7fd5e3aab2",
   "outputs": [
    {
     "name": "stdout",
     "output_type": "stream",
     "text": [
      "The current weather in Zurich is sunny with a temperature of 20.3°C (68.5°F) and a wind speed of 7.2 km/h coming from the west. The humidity is at 35%, and there is no precipitation at the moment. In Berlin, the weather is partly cloudy with a temperature of 14.3°C (57.7°F). The wind speed is 5.4 km/h from the west, and the humidity is at 63%.\n"
     ]
    }
   ],
   "execution_count": 20
  },
  {
   "metadata": {
    "ExecuteTime": {
     "end_time": "2025-04-12T12:52:54.190293Z",
     "start_time": "2025-04-12T12:52:43.709152Z"
    }
   },
   "cell_type": "code",
   "source": [
    "model = ChatOpenAI(model=\"gpt-4o\")  # requires more advanced model\n",
    "abot = Agent(model, [tool], system=prompt)\n",
    "\n",
    "query = \"Who won the eurocup in 2024? What is the GDP of that country? Answer each question.\" \n",
    "messages = [HumanMessage(content=query)]\n",
    "result = abot.graph.invoke({\"messages\": messages})\n",
    "print(result['messages'][-1].content)"
   ],
   "id": "dca3e7b891b17801",
   "outputs": [
    {
     "name": "stdout",
     "output_type": "stream",
     "text": [
      "Calling: {'name': 'tavily_search_results_json', 'args': {'query': 'Euro Cup 2024 winner'}, 'id': 'call_4enqdSGUMgjxeucn9rFqBk1k', 'type': 'tool_call'}\n",
      "Back to the model!\n",
      "Calling: {'name': 'tavily_search_results_json', 'args': {'query': 'Spain GDP 2024'}, 'id': 'call_gJTn0zsNkSjw6afvqbK4fdGi', 'type': 'tool_call'}\n",
      "Back to the model!\n",
      "Spain won the Euro Cup in 2024. The GDP of Spain in 2024 was approximately €1.593 trillion ($1.724 trillion), with a growth rate of 3.2% compared to the previous year.\n"
     ]
    }
   ],
   "execution_count": 21
  },
  {
   "metadata": {},
   "cell_type": "code",
   "outputs": [],
   "execution_count": null,
   "source": "",
   "id": "bda62b61885495dc"
  }
 ],
 "metadata": {
  "kernelspec": {
   "display_name": "Python (react-agent-with-langchain)",
   "language": "python",
   "name": "react-agent-with-langchain"
  },
  "language_info": {
   "codemirror_mode": {
    "name": "ipython",
    "version": 2
   },
   "file_extension": ".py",
   "mimetype": "text/x-python",
   "name": "python",
   "nbconvert_exporter": "python",
   "pygments_lexer": "ipython2",
   "version": "2.7.6"
  }
 },
 "nbformat": 4,
 "nbformat_minor": 5
}
