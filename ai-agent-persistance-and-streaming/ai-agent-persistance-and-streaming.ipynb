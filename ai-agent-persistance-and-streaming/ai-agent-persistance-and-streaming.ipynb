{
 "cells": [
  {
   "cell_type": "code",
   "execution_count": 1,
   "id": "initial_id",
   "metadata": {
    "collapsed": true,
    "jupyter": {
     "is_executing": true
    }
   },
   "outputs": [],
   "source": [
    "from dotenv import load_dotenv, find_dotenv\n",
    "_ = load_dotenv(find_dotenv())  # read local .env file"
   ]
  },
  {
   "cell_type": "code",
   "execution_count": 2,
   "id": "3c1757dd1035dba8",
   "metadata": {
    "jupyter": {
     "is_executing": true
    }
   },
   "outputs": [],
   "source": [
    "from langgraph.graph import StateGraph, END\n",
    "from typing import TypedDict, Annotated\n",
    "import operator\n",
    "from langchain_core.messages import AnyMessage, SystemMessage, HumanMessage, ToolMessage\n",
    "from langchain_openai import ChatOpenAI\n",
    "from langchain_community.tools.tavily_search import TavilySearchResults"
   ]
  },
  {
   "cell_type": "code",
   "execution_count": 3,
   "id": "2397c8b98377714",
   "metadata": {
    "jupyter": {
     "is_executing": true
    }
   },
   "outputs": [],
   "source": [
    "tool = TavilySearchResults(max_results=5)"
   ]
  },
  {
   "cell_type": "code",
   "execution_count": 4,
   "id": "b04ef6a2cdebe695",
   "metadata": {
    "jupyter": {
     "is_executing": true
    }
   },
   "outputs": [],
   "source": [
    "# Simple persistant state \n",
    "class AgentState(TypedDict):\n",
    "    messages: Annotated[list[AnyMessage], operator.add]\n"
   ]
  },
  {
   "cell_type": "code",
   "execution_count": 5,
   "id": "5027423ba322cfb7",
   "metadata": {
    "ExecuteTime": {
     "end_time": "2025-04-12T19:01:46.181341Z",
     "start_time": "2025-04-12T19:01:46.177242Z"
    }
   },
   "outputs": [],
   "source": [
    "class Agent:\n",
    "    def __init__(self, model, tools, checkpointer, system=\"\"):\n",
    "        self.system = system\n",
    "        graph = StateGraph(AgentState)\n",
    "        graph.add_node(\"llm\", self.call_openai)\n",
    "        graph.add_node(\"action\", self.take_action)\n",
    "        graph.add_conditional_edges(\"llm\", self.exists_action, {True: \"action\", False: END})\n",
    "        graph.add_edge(\"action\", \"llm\")\n",
    "        graph.set_entry_point(\"llm\")\n",
    "        # New: Add a checkpointer to the graph\n",
    "        self.graph = graph.compile(checkpointer=checkpointer)\n",
    "        self.tools = {t.name: t for t in tools}\n",
    "        self.model = model.bind_tools(tools)\n",
    "\n",
    "    def call_openai(self, state: AgentState):\n",
    "        messages = state['messages']\n",
    "        if self.system:\n",
    "            messages = [SystemMessage(content=self.system)] + messages\n",
    "        message = self.model.invoke(messages)\n",
    "        return {'messages': [message]}\n",
    "\n",
    "    def exists_action(self, state: AgentState):\n",
    "        result = state['messages'][-1]\n",
    "        return len(result.tool_calls) > 0\n",
    "\n",
    "    def take_action(self, state: AgentState):\n",
    "        tool_calls = state['messages'][-1].tool_calls\n",
    "        results = []\n",
    "        for t in tool_calls:\n",
    "            print(f\"Calling: {t}\")\n",
    "            result = self.tools[t['name']].invoke(t['args'])\n",
    "            results.append(ToolMessage(tool_call_id=t['id'], name=t['name'], content=str(result)))\n",
    "        print(\"Back to the model!\")\n",
    "        return {'messages': results}"
   ]
  },
  {
   "cell_type": "code",
   "execution_count": 6,
   "id": "e46879a9fe8958b2",
   "metadata": {
    "ExecuteTime": {
     "end_time": "2025-04-12T19:01:46.351020Z",
     "start_time": "2025-04-12T19:01:46.181938Z"
    }
   },
   "outputs": [],
   "source": [
    "prompt = \"\"\"You are a smart research assistant. Use the search engine to look up information. \\\n",
    "You are allowed to make multiple calls (either together or in sequence). \\\n",
    "Only look up information when you are sure of what you want. \\\n",
    "If you need to look up some information before asking a follow up question, you are allowed to do that!\n",
    "\"\"\"\n",
    "model = ChatOpenAI(model=\"gpt-4o\")\n",
    "\n",
    "#New: add memory\n",
    "# abot = Agent(model, [tool], system=prompt, checkpointer=memory)"
   ]
  },
  {
   "cell_type": "code",
   "execution_count": 7,
   "id": "4f803e174930a42d",
   "metadata": {},
   "outputs": [
    {
     "name": "stdout",
     "output_type": "stream",
     "text": [
      "\n",
      "Calling: {'name': 'tavily_search_results_json', 'args': {'query': 'current weather in Zurich October 2023'}, 'id': 'call_Awls5Pjlj0L6Z5J6FoyiiBbP', 'type': 'tool_call'}\n",
      "Back to the model!\n",
      "[{'title': 'Weather in Zurich', 'url': 'https://www.weatherapi.com/', 'content': \"{'location': {'name': 'Zurich', 'region': '', 'country': 'Switzerland', 'lat': 47.3667, 'lon': 8.55, 'tz_id': 'Europe/Zurich', 'localtime_epoch': 1744543545, 'localtime': '2025-04-13 13:25'}, 'current': {'last_updated_epoch': 1744542900, 'last_updated': '2025-04-13 13:15', 'temp_c': 14.3, 'temp_f': 57.7, 'is_day': 1, 'condition': {'text': 'Partly cloudy', 'icon': '//cdn.weatherapi.com/weather/64x64/day/116.png', 'code': 1003}, 'wind_mph': 5.4, 'wind_kph': 8.6, 'wind_degree': 270, 'wind_dir': 'W', 'pressure_mb': 1012.0, 'pressure_in': 29.88, 'precip_mm': 0.05, 'precip_in': 0.0, 'humidity': 77, 'cloud': 75, 'feelslike_c': 14.0, 'feelslike_f': 57.1, 'windchill_c': 16.3, 'windchill_f': 61.3, 'heatindex_c': 16.3, 'heatindex_f': 61.3, 'dewpoint_c': 9.1, 'dewpoint_f': 48.4, 'vis_km': 10.0, 'vis_miles': 6.0, 'uv': 3.6, 'gust_mph': 6.2, 'gust_kph': 9.9}}\", 'score': 0.9774396}, {'title': 'Weather in Zürich in October 2023', 'url': 'https://world-weather.info/forecast/switzerland/zurich/october-2023/', 'content': 'Average weather in October 2023: 6 days Precipitation, 15 days Cloudy, 10 days Sunny, Day +63 °F, Night +50 °F.', 'score': 0.94632465}, {'title': 'Past Weather in Zürich, Zurich, Switzerland — October 2023', 'url': 'https://www.timeanddate.com/weather/switzerland/zurich/historic?month=10&year=2023', 'content': '| Conditions | Comfort |  | \\nTime |  | Temp | Weather | Wind |  | Humidity | Barometer | Visibility\\n12:00 amSun, Oct 1 |  | 55\\xa0°F | Cool. | No wind | ↑ | 94% | 30.33 \"Hg | N/A\\n1:00 am |  | 53\\xa0°F | Cool. | 2 mph | ↑ | 97% | 30.35 \"Hg | N/A\\n2:00 am |  | 52\\xa0°F | Cool. | 1 mph | ↑ | 100% | 30.36 \"Hg | N/A\\n3:00 am |  | 51\\xa0°F | Cool. | 3 mph | ↑ | 100% | 30.36 \"Hg | N/A\\n4:00 am |  | 48\\xa0°F | Cool. | 5 mph | ↑ | 100% | 30.36 \"Hg | N/A\\n5:00 am |  | 48\\xa0°F | Cool. | 3 mph | ↑ | 100% | 30.35 \"Hg | N/A [...] 6:00 am |  | 48\\xa0°F | Cool. | 1 mph | ↑ | 100% | 30.36 \"Hg | N/A\\n7:00 am |  | 49\\xa0°F | Cool. | 3 mph | ↑ | 100% | 30.36 \"Hg | N/A\\n8:00 am |  | 50\\xa0°F | Fog. | 3 mph | ↑ | 99% | 30.36 \"Hg | 0\\xa0mi\\n9:00 am |  | 51\\xa0°F | Cool. | 2 mph | ↑ | 100% | 30.36 \"Hg | N/A\\n10:00 am |  | 53\\xa0°F | Cool. | 2 mph | ↑ | 100% | 30.36 \"Hg | N/A\\n11:00 am |  | 57\\xa0°F | Fog. | 2 mph | ↑ | 98% | 30.35 \"Hg | 1\\xa0mi\\n12:00 pm |  | 63\\xa0°F | Mild. | 2 mph | ↑ | 83% | 30.33 \"Hg | N/A [...] 3:00 pm |  | 72\\xa0°F | Mild. | 3 mph | ↑ | 58% | 30.25 \"Hg | N/A\\n4:00 pm |  | 73\\xa0°F | Mild. | 2 mph | ↑ | 55% | 30.24 \"Hg | N/A\\n5:00 pm |  | 73\\xa0°F | Passing clouds. | 1 mph | ↑ | 57% | 30.22 \"Hg | 12\\xa0mi\\n6:00 pm |  | 72\\xa0°F | Mild. | 7 mph | ↑ | 51% | 30.23 \"Hg | N/A\\n7:00 pm |  | 69\\xa0°F | Mild. | 5 mph | ↑ | 62% | 30.24 \"Hg | N/A\\n8:00 pm |  | 63\\xa0°F | Passing clouds. | 3 mph | ↑ | 77% | 30.26 \"Hg | 12\\xa0mi\\n9:00 pm |  | 58\\xa0°F | Cool. | 3 mph | ↑ | 88% | 30.28 \"Hg | N/A', 'score': 0.94289196}, {'title': 'Zürich Weather in 2023 - Extreme Weather Watch', 'url': 'https://www.extremeweatherwatch.com/cities/zurich/year-2023', 'content': 'October 2023 Zürich Weather. Day, High (°C), Low (°C), Precip. (cm). October 1. 22.3, 11.6, 0.00. October 2. 24.4, 12.7, 0.00. October 3. 25.7, 14.3, 0.00.', 'score': 0.9293445}, {'title': 'Zürich October Weather, Average Temperature (Switzerland)', 'url': 'https://weatherspark.com/m/60160/10/Average-Weather-in-October-in-Z%C3%BCrich-Switzerland', 'content': 'this report, we use a base of50Â°Fand a cap of86Â°F.The average accumulated growing degree days in ZÃ¼rich aregradually increasingduring October,increasingby92Â°F, from1,996Â°Fto2,088Â°F, over the course of the month.Growing Degree Days in October in ZÃ¼richFallLinkDownloadCompareAverages:JFMAMJJASOctNDHistory:20242023202220212020Growing Degree Days in October in [...] ZÃ¼richFallLinkDownloadCompareAverages:JFMAMJJASOctNDHistory:20242023202220212020Humidity Comfort Levels in October in ZÃ¼richOct11223344556677889910101111121213131414151516161717181819192020212122222323242425252626272728282929303031310%0%10%10%20%20%30%30%40%40%50%50%60%60%70%70%80%80%90%90%100%100%SepNovOct 10%Oct 10%Oct 310%Oct 310%Oct 110%Oct 110%Oct 210%Oct 210%humidhumidcomfortablecomfortabledrydrydry55Â°Fcomfortable60Â°Fhumid65Â°Fmuggy70Â°Foppressive75Â°FmiserableThe percentage of time [...] thecoldest dayof the year, they range from27Â°Fto40Â°F.Average High and Low Temperature in October in ZÃ¼richFallLinkDownloadCompareAverages:JFMAMJJASOctNDHistory:20242023202220212020Average High and Low Temperature in October in ZÃ¼richOct112233445566778899101011111212131314141515161617171818191920202121222223232424252526262727282829293030313120Â°F20Â°F25Â°F25Â°F30Â°F30Â°F35Â°F35Â°F40Â°F40Â°F45Â°F45Â°F50Â°F50Â°F55Â°F55Â°F60Â°F60Â°F65Â°F65Â°F70Â°F70Â°F75Â°F75Â°F80Â°F80Â°F85Â°F85Â°FSepNovOct', 'score': 0.8568246}]\n",
      "The current weather in Zurich is partly cloudy with a temperature of 14.3°C (57.7°F). The wind is blowing from the west at 5.4 mph (8.6 kph), and the atmospheric pressure is 1012.0 mb. The humidity level is 77%, and the visibility is 10 kilometers.\n",
      "\n",
      "Calling: {'name': 'tavily_search_results_json', 'args': {'query': 'current weather in Berlin October 2023'}, 'id': 'call_6m3DziDw6ldiIKS8GYmCdpSR', 'type': 'tool_call'}\n",
      "Back to the model!\n",
      "[{'title': 'Weather in Berlin', 'url': 'https://www.weatherapi.com/', 'content': \"{'location': {'name': 'Berlin', 'region': 'Berlin', 'country': 'Germany', 'lat': 52.5167, 'lon': 13.4, 'tz_id': 'Europe/Berlin', 'localtime_epoch': 1744545179, 'localtime': '2025-04-13 13:52'}, 'current': {'last_updated_epoch': 1744544700, 'last_updated': '2025-04-13 13:45', 'temp_c': 22.4, 'temp_f': 72.3, 'is_day': 1, 'condition': {'text': 'Sunny', 'icon': '//cdn.weatherapi.com/weather/64x64/day/113.png', 'code': 1000}, 'wind_mph': 13.4, 'wind_kph': 21.6, 'wind_degree': 222, 'wind_dir': 'SW', 'pressure_mb': 1005.0, 'pressure_in': 29.68, 'precip_mm': 0.12, 'precip_in': 0.0, 'humidity': 38, 'cloud': 0, 'feelslike_c': 24.2, 'feelslike_f': 75.6, 'windchill_c': 22.0, 'windchill_f': 71.6, 'heatindex_c': 24.1, 'heatindex_f': 75.4, 'dewpoint_c': 8.6, 'dewpoint_f': 47.5, 'vis_km': 10.0, 'vis_miles': 6.0, 'uv': 3.4, 'gust_mph': 15.4, 'gust_kph': 24.8}}\", 'score': 0.9733005}, {'title': 'Weather in Berlin in October 2023', 'url': 'https://world-weather.info/forecast/germany/berlin/october-2023/', 'content': 'Weather in Berlin in October 2023\\n\\nBerlin Weather Forecast for October 2023 is based on statistical data.\\n\\nOctober\\n\\n+55°\\n\\n+59°\\n\\n+61°\\n\\n+54°\\n\\n+54°\\n\\n+52°\\n\\n+61°\\n\\n+52°\\n\\n+50°\\n\\n+52°\\n\\n+59°\\n\\n+64°\\n\\n+55°\\n\\n+68°\\n\\n+48°\\n\\n+43°\\n\\n+41°\\n\\n+39°\\n\\n+43°\\n\\n+43°\\n\\n+45°\\n\\n+50°\\n\\n+52°\\n\\n+50°\\n\\n+52°\\n\\n+48°\\n\\n+48°\\n\\n+48°\\n\\n+48°\\n\\n+55°\\n\\n+54°\\n\\nAverage weather in October 2023\\n\\nExtended weather forecast in Berlin\\n\\nWeather in large and nearby cities\\n\\nHennigsdorf+72°\\n\\nLübbenau+68°\\n\\nFrankfurt+72°\\n\\nRathenow+70°\\n\\nTemplin+68°\\n\\nNeuruppin+68° [...] Brandenburg+68°\\n\\nFürstenwalde+72°\\n\\nEberswalde+70°\\n\\nStrausberg+70°\\n\\nKönigs Wusterhausen+70°\\n\\nOranienburg+72°\\n\\nPotsdam+72°\\n\\nLudwigsfelde+72°\\n\\nWoltersdorf+70°\\n\\nFalkensee+72°\\n\\nRote-Myule+66°\\n\\nStolzenhagen+72°', 'score': 0.9595845}, {'title': 'Berlin Weather in 2023 - Extreme Weather Watch', 'url': 'https://www.extremeweatherwatch.com/cities/berlin/year-2023', 'content': 'October 2023 Berlin Weather. Day, High (°C), Low (°C), Precip. (cm). October 1. 19.8, 11.5, 0.00. October 2. 25.7, 13.2, 0.00. October 3. 24.2, 12.5, 1.13.', 'score': 0.92491204}, {'title': 'Berlin October Weather, Average Temperature (Berlin, Germany)', 'url': 'https://weatherspark.com/m/75981/10/Average-Weather-in-October-in-Berlin-Germany', 'content': 'this report, we use a base of50Â°Fand a cap of86Â°F.The average accumulated growing degree days in Berlin aregradually increasingduring October,increasingby103Â°F, from2,155Â°Fto2,257Â°F, over the course of the month.Growing Degree Days in October in BerlinFallLinkDownloadCompareAverages:JFMAMJJASOctNDHistory:20242023202220212020Growing Degree Days in October in [...] thecoldest dayof the year, they range from29Â°Fto37Â°F.Average High and Low Temperature in October in BerlinFallLinkDownloadCompareAverages:JFMAMJJASOctNDHistory:20242023202220212020Average High and Low Temperature in October in BerlinOct112233445566778899101011111212131314141515161617171818191920202121222223232424252526262727282829293030313120Â°F20Â°F25Â°F25Â°F30Â°F30Â°F35Â°F35Â°F40Â°F40Â°F45Â°F45Â°F50Â°F50Â°F55Â°F55Â°F60Â°F60Â°F65Â°F65Â°F70Â°F70Â°F75Â°F75Â°F80Â°F80Â°F85Â°F85Â°FSepNovOct [...] BerlinFallLinkDownloadCompareAverages:JFMAMJJASOctNDHistory:20242023202220212020Humidity Comfort Levels in October in BerlinOct11223344556677889910101111121213131414151516161717181819192020212122222323242425252626272728282929303031310%0%10%10%20%20%30%30%40%40%50%50%60%60%70%70%80%80%90%90%100%100%SepNovOct 10%Oct 10%Oct 310%Oct 310%Oct 110%Oct 110%Oct 210%Oct 210%comfortablecomfortabledrydryhumidhumiddry55Â°Fcomfortable60Â°Fhumid65Â°Fmuggy70Â°Foppressive75Â°FmiserableThe percentage of time', 'score': 0.8559598}, {'title': 'The weather in Germany – October 2023 - Deutscher Wetterdienst', 'url': 'https://www.dwd.de/EN/press/press_release/EN/2023/20231030_the_weather_in_germany_in_october_2023_news.html', 'content': 'October 2023 brought very rainy and extremely mild weather with summery spells. Vegetation was slow to change to autumn colours.', 'score': 0.7975099}]\n",
      "The current weather in Berlin is sunny with a temperature of 22.4°C (72.3°F). The wind is coming from the southwest at 13.4 mph (21.6 kph), and the air pressure is 1005.0 mb. The humidity is 38%, and visibility is 10 kilometers.\n",
      "Berlin is currently warmer than Zurich. The temperature in Berlin is 22.4°C (72.3°F), whereas in Zurich it is 14.3°C (57.7°F).\n"
     ]
    }
   ],
   "source": [
    "messages = [HumanMessage(content=\"What is the weather in zurich?\")]\n",
    "thread = {\"configurable\": {\"thread_id\": \"1\"}}\n",
    "\n",
    "from langgraph.checkpoint.sqlite import SqliteSaver\n",
    "checkpointer = SqliteSaver.from_conn_string(\":memory:\")\n",
    "with checkpointer as checkpointer:\n",
    "    abot = Agent(model, [tool], system=prompt, checkpointer=checkpointer)\n",
    "    for event in abot.graph.stream({\"messages\": messages}, thread):\n",
    "        for v in event.values():\n",
    "            # The message is printed as and when the persistence storage is updated\n",
    "            print(v['messages'][0].content)\n",
    "            \n",
    "    # Ask a different message without contxt\n",
    "    messages = [HumanMessage(content=\"What about in Berlin?\")]\n",
    "    for event in abot.graph.stream({\"messages\": messages}, thread):\n",
    "        for v in event.values():\n",
    "            print(v['messages'][0].content)\n",
    "            \n",
    "    # Ask a question based on previous results\n",
    "    messages = [HumanMessage(content=\"Which is warmer?\")]\n",
    "    for event in abot.graph.stream({\"messages\": messages}, thread):\n",
    "        for v in event.values():\n",
    "            print(v['messages'][0].content)"
   ]
  },
  {
   "cell_type": "markdown",
   "id": "b16904e7",
   "metadata": {},
   "source": [
    "# Async Streaming"
   ]
  },
  {
   "cell_type": "code",
   "execution_count": 8,
   "id": "55e9bcf0a0196462",
   "metadata": {},
   "outputs": [
    {
     "name": "stdout",
     "output_type": "stream",
     "text": [
      "Calling: {'name': 'tavily_search_results_json', 'args': {'query': 'current weather in Zurich'}, 'id': 'call_XQjeeIknSBMMjULmI7vaDTG9', 'type': 'tool_call'}\n",
      "Back to the model!\n",
      "Currently| in| Zurich|,| the| weather| is| partly| cloudy| with| a| temperature| of| about| |14|.|3|°C| (|57|.|7|°F|).| The| wind| is| blowing| from| the| west| at| a| speed| of| |8|.|6| k|ph| (|5|.|4| mph|),| and| the| humidity| level| is| around| |77|%.| There| is| a| slight| chance| of| precipitation|,| with| a| recorded| |0|.|05| mm| of| rain|.|"
     ]
    }
   ],
   "source": [
    "messages = [HumanMessage(content=\"What is the weather in zurich?\")]\n",
    "thread = {\"configurable\": {\"thread_id\": \"5\"}}\n",
    "\n",
    "from langgraph.checkpoint.sqlite.aio import AsyncSqliteSaver\n",
    "checkpointer = AsyncSqliteSaver.from_conn_string(\":memory:\")\n",
    "async with checkpointer as checkpointer:\n",
    "    abot = Agent(model, [tool], system=prompt, checkpointer=checkpointer)\n",
    "    async for event in abot.graph.astream_events({\"messages\": messages}, thread):\n",
    "        kind = event[\"event\"]\n",
    "        if kind == \"on_chat_model_stream\":\n",
    "            content = event[\"data\"][\"chunk\"].content\n",
    "            if content:\n",
    "                print(content, end=\"|\")"
   ]
  }
 ],
 "metadata": {
  "kernelspec": {
   "display_name": ".venv",
   "language": "python",
   "name": "python3"
  },
  "language_info": {
   "codemirror_mode": {
    "name": "ipython",
    "version": 3
   },
   "file_extension": ".py",
   "mimetype": "text/x-python",
   "name": "python",
   "nbconvert_exporter": "python",
   "pygments_lexer": "ipython3",
   "version": "3.12.8"
  }
 },
 "nbformat": 4,
 "nbformat_minor": 5
}
