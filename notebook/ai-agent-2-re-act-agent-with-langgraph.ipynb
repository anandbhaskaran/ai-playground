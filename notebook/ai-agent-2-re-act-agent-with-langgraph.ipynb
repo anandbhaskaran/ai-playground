{
 "cells": [
  {
   "cell_type": "markdown",
   "id": "8550ef35",
   "metadata": {},
   "source": [
    "# Article 2: Re-Act agent with LangGraph\n",
    "- inspired by https://learn.deeplearning.ai/courses/ai-agents-in-langgraph"
   ]
  },
  {
   "cell_type": "code",
   "execution_count": 22,
   "id": "initial_id",
   "metadata": {
    "ExecuteTime": {
     "end_time": "2025-04-12T14:45:02.551760Z",
     "start_time": "2025-04-12T14:45:02.548857Z"
    },
    "collapsed": true
   },
   "outputs": [],
   "source": [
    "from dotenv import load_dotenv, find_dotenv\n",
    "_ = load_dotenv(find_dotenv())"
   ]
  },
  {
   "cell_type": "code",
   "execution_count": 23,
   "id": "553c436d9d8dbe79",
   "metadata": {
    "ExecuteTime": {
     "end_time": "2025-04-12T14:45:02.975595Z",
     "start_time": "2025-04-12T14:45:02.972769Z"
    }
   },
   "outputs": [],
   "source": [
    "from langgraph.graph import StateGraph, END\n",
    "from typing import TypedDict, Annotated\n",
    "import operator\n",
    "from langchain_core.messages import AnyMessage, SystemMessage, HumanMessage, ToolMessage\n",
    "from langchain_openai import ChatOpenAI\n",
    "from langchain_community.tools.tavily_search import TavilySearchResults"
   ]
  },
  {
   "cell_type": "code",
   "execution_count": 24,
   "id": "82f52ba59dd06bf",
   "metadata": {
    "ExecuteTime": {
     "end_time": "2025-04-12T14:45:03.456052Z",
     "start_time": "2025-04-12T14:45:03.453957Z"
    }
   },
   "outputs": [
    {
     "name": "stdout",
     "output_type": "stream",
     "text": [
      "<class 'langchain_community.tools.tavily_search.tool.TavilySearchResults'>\n",
      "tavily_search_results_json\n"
     ]
    }
   ],
   "source": [
    "tool = TavilySearchResults(max_results=4)\n",
    "print(type(tool))\n",
    "print(tool.name)"
   ]
  },
  {
   "cell_type": "code",
   "execution_count": 25,
   "id": "1b8c8e820db4dd98",
   "metadata": {
    "ExecuteTime": {
     "end_time": "2025-04-12T14:45:03.924831Z",
     "start_time": "2025-04-12T14:45:03.923020Z"
    }
   },
   "outputs": [],
   "source": [
    "class AgentState(TypedDict):\n",
    "    messages: Annotated[list[AnyMessage], operator.add]"
   ]
  },
  {
   "cell_type": "code",
   "execution_count": 26,
   "id": "49185932b4c1cf3e",
   "metadata": {
    "ExecuteTime": {
     "end_time": "2025-04-12T14:45:04.434208Z",
     "start_time": "2025-04-12T14:45:04.428892Z"
    }
   },
   "outputs": [],
   "source": [
    "class Agent:\n",
    "\n",
    "    def __init__(self, model, tools, system=\"\"):\n",
    "        self.system = system\n",
    "        graph = StateGraph(AgentState)\n",
    "        graph.add_node(\"llm\", self.call_openai)\n",
    "        graph.add_node(\"action\", self.take_action)\n",
    "        graph.add_conditional_edges(\n",
    "            \"llm\",\n",
    "            self.exists_action,\n",
    "            {True: \"action\", False: END}\n",
    "        )\n",
    "        graph.add_edge(\"action\", \"llm\")\n",
    "        graph.set_entry_point(\"llm\")\n",
    "        \n",
    "        # Returns a runnable graph\n",
    "        self.graph = graph.compile()\n",
    "        # Let model know about tools\n",
    "        self.tools = {t.name: t for t in tools}\n",
    "        self.model = model.bind_tools(tools)\n",
    "\n",
    "    def exists_action(self, state: AgentState):\n",
    "        result = state['messages'][-1]\n",
    "        return len(result.tool_calls) > 0\n",
    "\n",
    "    def call_openai(self, state: AgentState):\n",
    "        messages = state['messages']\n",
    "        if self.system:\n",
    "            messages = [SystemMessage(content=self.system)] + messages\n",
    "        message = self.model.invoke(messages)\n",
    "        return {'messages': [message]}\n",
    "\n",
    "    def take_action(self, state: AgentState):\n",
    "        tool_calls = state['messages'][-1].tool_calls\n",
    "        results = []\n",
    "        for t in tool_calls:\n",
    "            print(f\"Calling: {t}\")\n",
    "            if not t['name'] in self.tools:      # check for bad tool name from LLM\n",
    "                print(\"\\n ....bad tool name....\")\n",
    "                result = \"bad tool name, retry\"  # instruct LLM to retry if bad\n",
    "            else:\n",
    "                result = self.tools[t['name']].invoke(t['args'])\n",
    "            results.append(ToolMessage(tool_call_id=t['id'], name=t['name'], content=str(result)))\n",
    "        print(\"Back to the model!\")\n",
    "        return {'messages': results}"
   ]
  },
  {
   "cell_type": "code",
   "execution_count": 27,
   "id": "b4b087e923ea8ae4",
   "metadata": {
    "ExecuteTime": {
     "end_time": "2025-04-12T14:45:05.393033Z",
     "start_time": "2025-04-12T14:45:05.369279Z"
    }
   },
   "outputs": [],
   "source": [
    "prompt = \"\"\"You are a smart research assistant. Use the search engine to look up information. \\\n",
    "You are allowed to make multiple calls (either together or in sequence). \\\n",
    "Only look up information when you are sure of what you want. \\\n",
    "If you need to look up some information before asking a follow up question, you are allowed to do that!\n",
    "\"\"\"\n",
    "\n",
    "model = ChatOpenAI(model=\"gpt-3.5-turbo\")  #reduce inference cost\n",
    "abot = Agent(model, [tool], system=prompt)"
   ]
  },
  {
   "cell_type": "code",
   "execution_count": 28,
   "id": "a128976a00bb97ff",
   "metadata": {
    "ExecuteTime": {
     "end_time": "2025-04-12T14:45:06.746597Z",
     "start_time": "2025-04-12T14:45:06.745129Z"
    }
   },
   "outputs": [],
   "source": [
    "# This did not work as there was issue with installing pugraphviz\n",
    "#from IPython.display import Image\n",
    "#Image(abot.graph.get_graph().draw_png())"
   ]
  },
  {
   "cell_type": "code",
   "execution_count": 29,
   "id": "19bd05cd40e816e3",
   "metadata": {
    "ExecuteTime": {
     "end_time": "2025-04-12T14:45:15.248610Z",
     "start_time": "2025-04-12T14:45:08.946938Z"
    }
   },
   "outputs": [
    {
     "name": "stdout",
     "output_type": "stream",
     "text": [
      "Calling: {'name': 'tavily_search_results_json', 'args': {'query': 'weather in Zurich'}, 'id': 'call_QklCTj52qRxD6PGGoaCzvGdG', 'type': 'tool_call'}\n",
      "Back to the model!\n"
     ]
    }
   ],
   "source": [
    "messages = [HumanMessage(content=\"What is the weather in Zurich?\")]\n",
    "result = abot.graph.invoke({\"messages\": messages})"
   ]
  },
  {
   "cell_type": "code",
   "execution_count": 30,
   "id": "6202d25aca8585c5",
   "metadata": {
    "ExecuteTime": {
     "end_time": "2025-04-12T14:45:15.253540Z",
     "start_time": "2025-04-12T14:45:15.250512Z"
    }
   },
   "outputs": [
    {
     "name": "stdout",
     "output_type": "stream",
     "text": [
      "The current weather in Zurich is partly cloudy with a temperature of 20.3°C (68.5°F). The wind speed is 3.4 mph from the west direction. The humidity is at 40%, and the visibility is 10.0 km (6.0 miles).\n"
     ]
    }
   ],
   "source": [
    "print(result['messages'][-1].content)\n"
   ]
  },
  {
   "cell_type": "code",
   "execution_count": 19,
   "id": "d5683e9b24e74f3a",
   "metadata": {
    "ExecuteTime": {
     "end_time": "2025-04-12T12:46:18.702184Z",
     "start_time": "2025-04-12T12:46:07.062163Z"
    }
   },
   "outputs": [
    {
     "name": "stdout",
     "output_type": "stream",
     "text": [
      "Calling: {'name': 'tavily_search_results_json', 'args': {'query': 'weather in Zurich'}, 'id': 'call_xefqQVqpSZxWecFHhpvhxxYB', 'type': 'tool_call'}\n",
      "Calling: {'name': 'tavily_search_results_json', 'args': {'query': 'weather in Berlin'}, 'id': 'call_1LhZUxLFtAnPjexfcZgSJpTc', 'type': 'tool_call'}\n",
      "Back to the model!\n"
     ]
    }
   ],
   "source": [
    "messages = [HumanMessage(content=\"What is the weather in Zurich and Berlin?\")]\n",
    "result = abot.graph.invoke({\"messages\": messages})"
   ]
  },
  {
   "cell_type": "code",
   "execution_count": 20,
   "id": "99f43d7fd5e3aab2",
   "metadata": {
    "ExecuteTime": {
     "end_time": "2025-04-12T12:46:31.609150Z",
     "start_time": "2025-04-12T12:46:31.607005Z"
    }
   },
   "outputs": [
    {
     "name": "stdout",
     "output_type": "stream",
     "text": [
      "The current weather in Zurich is sunny with a temperature of 20.3°C (68.5°F) and a wind speed of 7.2 km/h coming from the west. The humidity is at 35%, and there is no precipitation at the moment. In Berlin, the weather is partly cloudy with a temperature of 14.3°C (57.7°F). The wind speed is 5.4 km/h from the west, and the humidity is at 63%.\n"
     ]
    }
   ],
   "source": [
    "print(result['messages'][-1].content)"
   ]
  },
  {
   "cell_type": "code",
   "execution_count": 21,
   "id": "dca3e7b891b17801",
   "metadata": {
    "ExecuteTime": {
     "end_time": "2025-04-12T12:52:54.190293Z",
     "start_time": "2025-04-12T12:52:43.709152Z"
    }
   },
   "outputs": [
    {
     "name": "stdout",
     "output_type": "stream",
     "text": [
      "Calling: {'name': 'tavily_search_results_json', 'args': {'query': 'Euro Cup 2024 winner'}, 'id': 'call_4enqdSGUMgjxeucn9rFqBk1k', 'type': 'tool_call'}\n",
      "Back to the model!\n",
      "Calling: {'name': 'tavily_search_results_json', 'args': {'query': 'Spain GDP 2024'}, 'id': 'call_gJTn0zsNkSjw6afvqbK4fdGi', 'type': 'tool_call'}\n",
      "Back to the model!\n",
      "Spain won the Euro Cup in 2024. The GDP of Spain in 2024 was approximately €1.593 trillion ($1.724 trillion), with a growth rate of 3.2% compared to the previous year.\n"
     ]
    }
   ],
   "source": [
    "model = ChatOpenAI(model=\"gpt-4o\")  # requires more advanced model\n",
    "abot = Agent(model, [tool], system=prompt)\n",
    "\n",
    "query = \"Who won the eurocup in 2024? What is the GDP of that country? Answer each question.\" \n",
    "messages = [HumanMessage(content=query)]\n",
    "result = abot.graph.invoke({\"messages\": messages})\n",
    "print(result['messages'][-1].content)"
   ]
  },
  {
   "cell_type": "code",
   "execution_count": null,
   "id": "bda62b61885495dc",
   "metadata": {},
   "outputs": [],
   "source": []
  }
 ],
 "metadata": {
  "kernelspec": {
   "display_name": "Python (react-agent-with-langchain)",
   "language": "python",
   "name": "react-agent-with-langchain"
  },
  "language_info": {
   "codemirror_mode": {
    "name": "ipython",
    "version": 2
   },
   "file_extension": ".py",
   "mimetype": "text/x-python",
   "name": "python",
   "nbconvert_exporter": "python",
   "pygments_lexer": "ipython2",
   "version": "2.7.6"
  }
 },
 "nbformat": 4,
 "nbformat_minor": 5
}
