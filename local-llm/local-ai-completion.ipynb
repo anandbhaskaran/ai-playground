{
 "cells": [
  {
   "cell_type": "code",
   "execution_count": null,
   "id": "initial_id",
   "metadata": {
    "collapsed": true
   },
   "outputs": [],
   "source": [
    "# Install the LangChain and Llama libraries"
   ]
  },
  {
   "cell_type": "code",
   "execution_count": 12,
   "outputs": [
    {
     "name": "stdout",
     "output_type": "stream",
     "text": [
      "Requirement already satisfied: langchain in /Users/anandbhaskaran/Personal/coding/ai-playground/venv/lib/python3.12/site-packages (0.1.20)\r\n",
      "Requirement already satisfied: PyYAML>=5.3 in /Users/anandbhaskaran/Personal/coding/ai-playground/venv/lib/python3.12/site-packages (from langchain) (6.0.1)\r\n",
      "Requirement already satisfied: SQLAlchemy<3,>=1.4 in /Users/anandbhaskaran/Personal/coding/ai-playground/venv/lib/python3.12/site-packages (from langchain) (2.0.31)\r\n",
      "Requirement already satisfied: aiohttp<4.0.0,>=3.8.3 in /Users/anandbhaskaran/Personal/coding/ai-playground/venv/lib/python3.12/site-packages (from langchain) (3.9.5)\r\n",
      "Requirement already satisfied: dataclasses-json<0.7,>=0.5.7 in /Users/anandbhaskaran/Personal/coding/ai-playground/venv/lib/python3.12/site-packages (from langchain) (0.6.7)\r\n",
      "Requirement already satisfied: langchain-community<0.1,>=0.0.38 in /Users/anandbhaskaran/Personal/coding/ai-playground/venv/lib/python3.12/site-packages (from langchain) (0.0.38)\r\n",
      "Requirement already satisfied: langchain-core<0.2.0,>=0.1.52 in /Users/anandbhaskaran/Personal/coding/ai-playground/venv/lib/python3.12/site-packages (from langchain) (0.1.52)\r\n",
      "Requirement already satisfied: langchain-text-splitters<0.1,>=0.0.1 in /Users/anandbhaskaran/Personal/coding/ai-playground/venv/lib/python3.12/site-packages (from langchain) (0.0.2)\r\n",
      "Requirement already satisfied: langsmith<0.2.0,>=0.1.17 in /Users/anandbhaskaran/Personal/coding/ai-playground/venv/lib/python3.12/site-packages (from langchain) (0.1.82)\r\n",
      "Requirement already satisfied: numpy<2,>=1 in /Users/anandbhaskaran/Personal/coding/ai-playground/venv/lib/python3.12/site-packages (from langchain) (1.26.4)\r\n",
      "Requirement already satisfied: pydantic<3,>=1 in /Users/anandbhaskaran/Personal/coding/ai-playground/venv/lib/python3.12/site-packages (from langchain) (2.7.4)\r\n",
      "Requirement already satisfied: requests<3,>=2 in /Users/anandbhaskaran/Personal/coding/ai-playground/venv/lib/python3.12/site-packages (from langchain) (2.32.3)\r\n",
      "Requirement already satisfied: tenacity<9.0.0,>=8.1.0 in /Users/anandbhaskaran/Personal/coding/ai-playground/venv/lib/python3.12/site-packages (from langchain) (8.4.2)\r\n",
      "Requirement already satisfied: aiosignal>=1.1.2 in /Users/anandbhaskaran/Personal/coding/ai-playground/venv/lib/python3.12/site-packages (from aiohttp<4.0.0,>=3.8.3->langchain) (1.3.1)\r\n",
      "Requirement already satisfied: attrs>=17.3.0 in /Users/anandbhaskaran/Personal/coding/ai-playground/venv/lib/python3.12/site-packages (from aiohttp<4.0.0,>=3.8.3->langchain) (23.2.0)\r\n",
      "Requirement already satisfied: frozenlist>=1.1.1 in /Users/anandbhaskaran/Personal/coding/ai-playground/venv/lib/python3.12/site-packages (from aiohttp<4.0.0,>=3.8.3->langchain) (1.4.1)\r\n",
      "Requirement already satisfied: multidict<7.0,>=4.5 in /Users/anandbhaskaran/Personal/coding/ai-playground/venv/lib/python3.12/site-packages (from aiohttp<4.0.0,>=3.8.3->langchain) (6.0.5)\r\n",
      "Requirement already satisfied: yarl<2.0,>=1.0 in /Users/anandbhaskaran/Personal/coding/ai-playground/venv/lib/python3.12/site-packages (from aiohttp<4.0.0,>=3.8.3->langchain) (1.9.4)\r\n",
      "Requirement already satisfied: marshmallow<4.0.0,>=3.18.0 in /Users/anandbhaskaran/Personal/coding/ai-playground/venv/lib/python3.12/site-packages (from dataclasses-json<0.7,>=0.5.7->langchain) (3.21.3)\r\n",
      "Requirement already satisfied: typing-inspect<1,>=0.4.0 in /Users/anandbhaskaran/Personal/coding/ai-playground/venv/lib/python3.12/site-packages (from dataclasses-json<0.7,>=0.5.7->langchain) (0.9.0)\r\n",
      "Requirement already satisfied: jsonpatch<2.0,>=1.33 in /Users/anandbhaskaran/Personal/coding/ai-playground/venv/lib/python3.12/site-packages (from langchain-core<0.2.0,>=0.1.52->langchain) (1.33)\r\n",
      "Requirement already satisfied: packaging<24.0,>=23.2 in /Users/anandbhaskaran/Personal/coding/ai-playground/venv/lib/python3.12/site-packages (from langchain-core<0.2.0,>=0.1.52->langchain) (23.2)\r\n",
      "Requirement already satisfied: orjson<4.0.0,>=3.9.14 in /Users/anandbhaskaran/Personal/coding/ai-playground/venv/lib/python3.12/site-packages (from langsmith<0.2.0,>=0.1.17->langchain) (3.10.5)\r\n",
      "Requirement already satisfied: annotated-types>=0.4.0 in /Users/anandbhaskaran/Personal/coding/ai-playground/venv/lib/python3.12/site-packages (from pydantic<3,>=1->langchain) (0.7.0)\r\n",
      "Requirement already satisfied: pydantic-core==2.18.4 in /Users/anandbhaskaran/Personal/coding/ai-playground/venv/lib/python3.12/site-packages (from pydantic<3,>=1->langchain) (2.18.4)\r\n",
      "Requirement already satisfied: typing-extensions>=4.6.1 in /Users/anandbhaskaran/Personal/coding/ai-playground/venv/lib/python3.12/site-packages (from pydantic<3,>=1->langchain) (4.12.2)\r\n",
      "Requirement already satisfied: charset-normalizer<4,>=2 in /Users/anandbhaskaran/Personal/coding/ai-playground/venv/lib/python3.12/site-packages (from requests<3,>=2->langchain) (3.3.2)\r\n",
      "Requirement already satisfied: idna<4,>=2.5 in /Users/anandbhaskaran/Personal/coding/ai-playground/venv/lib/python3.12/site-packages (from requests<3,>=2->langchain) (3.7)\r\n",
      "Requirement already satisfied: urllib3<3,>=1.21.1 in /Users/anandbhaskaran/Personal/coding/ai-playground/venv/lib/python3.12/site-packages (from requests<3,>=2->langchain) (2.2.2)\r\n",
      "Requirement already satisfied: certifi>=2017.4.17 in /Users/anandbhaskaran/Personal/coding/ai-playground/venv/lib/python3.12/site-packages (from requests<3,>=2->langchain) (2024.6.2)\r\n",
      "Requirement already satisfied: jsonpointer>=1.9 in /Users/anandbhaskaran/Personal/coding/ai-playground/venv/lib/python3.12/site-packages (from jsonpatch<2.0,>=1.33->langchain-core<0.2.0,>=0.1.52->langchain) (3.0.0)\r\n",
      "Requirement already satisfied: mypy-extensions>=0.3.0 in /Users/anandbhaskaran/Personal/coding/ai-playground/venv/lib/python3.12/site-packages (from typing-inspect<1,>=0.4.0->dataclasses-json<0.7,>=0.5.7->langchain) (1.0.0)\r\n",
      "\r\n",
      "\u001B[1m[\u001B[0m\u001B[34;49mnotice\u001B[0m\u001B[1;39;49m]\u001B[0m\u001B[39;49m A new release of pip is available: \u001B[0m\u001B[31;49m23.2.1\u001B[0m\u001B[39;49m -> \u001B[0m\u001B[32;49m24.1.1\u001B[0m\r\n",
      "\u001B[1m[\u001B[0m\u001B[34;49mnotice\u001B[0m\u001B[1;39;49m]\u001B[0m\u001B[39;49m To update, run: \u001B[0m\u001B[32;49mpip install --upgrade pip\u001B[0m\r\n"
     ]
    }
   ],
   "source": [
    "# Install the LangChain and Llama libraries\n",
    "!pip install langchain "
   ],
   "metadata": {
    "collapsed": false,
    "ExecuteTime": {
     "end_time": "2024-06-28T21:46:31.931559Z",
     "start_time": "2024-06-28T21:46:29.576144Z"
    }
   },
   "id": "5b1aaf955c062a3b"
  },
  {
   "cell_type": "code",
   "execution_count": 13,
   "outputs": [
    {
     "data": {
      "text/plain": "\" The sky appears blue due to a phenomenon called Rayleigh scattering, named after Lord Rayleigh and Sir James Clerk Maxwell. When sunlight passes through Earth's atmosphere, it interacts with molecules of air and other particles. The shorter wavelengths of light (blue and violet) are scattered more effectively than longer wavelengths (like red and yellow). Although we perceive violet to be scattered the most, our eyes are more sensitive to blue light, so the sky appears blue. Additionally, as the sun gets lower in the sky, the path of sunlight through the atmosphere becomes longer, resulting in even more scattering of shorter wavelengths and a warmer, more orange and red-hued sky during sunrise and sunset.\""
     },
     "execution_count": 13,
     "metadata": {},
     "output_type": "execute_result"
    }
   ],
   "source": [
    "from langchain_community.llms import Ollama  \n",
    "llm = Ollama(model=\"openchat\")  \n",
    "llm.invoke(\"Why is the sky blue?\")"
   ],
   "metadata": {
    "collapsed": false,
    "ExecuteTime": {
     "end_time": "2024-06-28T21:46:44.571013Z",
     "start_time": "2024-06-28T21:46:35.479849Z"
    }
   },
   "id": "218704a1e4a26344"
  },
  {
   "cell_type": "markdown",
   "source": [],
   "metadata": {
    "collapsed": false
   },
   "id": "450a32fcd600fbf5"
  },
  {
   "cell_type": "code",
   "execution_count": 15,
   "outputs": [
    {
     "name": "stderr",
     "output_type": "stream",
     "text": [
      "/Users/anandbhaskaran/Personal/coding/ai-playground/venv/lib/python3.12/site-packages/langchain_core/_api/deprecation.py:119: LangChainDeprecationWarning: The class `LLMChain` was deprecated in LangChain 0.1.17 and will be removed in 0.3.0. Use RunnableSequence, e.g., `prompt | llm` instead.\n",
      "  warn_deprecated(\n",
      "/Users/anandbhaskaran/Personal/coding/ai-playground/venv/lib/python3.12/site-packages/langchain_core/_api/deprecation.py:119: LangChainDeprecationWarning: The method `Chain.run` was deprecated in langchain 0.1.0 and will be removed in 0.3.0. Use invoke instead.\n",
      "  warn_deprecated(\n"
     ]
    },
    {
     "name": "stdout",
     "output_type": "stream",
     "text": [
      " Artificial intelligence (AI) refers to the development of computer systems capable of performing tasks that usually require human intelligence, such as learning, problem-solving, and decision-making. AI encompasses a wide range of techniques, including machine learning, natural language processing, and computer vision, which enable machines to analyze vast amounts of data, recognize patterns, and adapt their behavior based on new information. The potential applications of AI are vast, spanning industries such as healthcare, finance, transportation, and entertainment. As AI continues to evolve, it has the potential to revolutionize how we interact with technology, improve efficiency in various fields, and even solve complex global problems. However, it also raises ethical concerns, such as privacy issues and the potential for biases in AI algorithms, which must be carefully considered and addressed as the technology advances.\n"
     ]
    }
   ],
   "source": [
    "from langchain.prompts import PromptTemplate\n",
    "from langchain.chains import LLMChain\n",
    "\n",
    "llm = Ollama(model=\"openchat\")  \n",
    "\n",
    "# Create a prompt template\n",
    "prompt = PromptTemplate(\n",
    "    input_variables=[\"topic\"],\n",
    "    template=\"Write a short paragraph about {topic}.\"\n",
    ")\n",
    "\n",
    "# Create a chain\n",
    "chain = LLMChain(llm=llm, prompt=prompt)\n",
    "\n",
    "# Run the chain\n",
    "result = chain.run(\"artificial intelligence\")\n",
    "print(result)"
   ],
   "metadata": {
    "collapsed": false,
    "ExecuteTime": {
     "end_time": "2024-06-28T21:47:39.104172Z",
     "start_time": "2024-06-28T21:47:35.560361Z"
    }
   },
   "id": "902f4f0ee232ee52"
  },
  {
   "cell_type": "code",
   "execution_count": null,
   "outputs": [],
   "source": [],
   "metadata": {
    "collapsed": false
   },
   "id": "49073bcb26b603c1"
  }
 ],
 "metadata": {
  "kernelspec": {
   "display_name": "Python 3",
   "language": "python",
   "name": "python3"
  },
  "language_info": {
   "codemirror_mode": {
    "name": "ipython",
    "version": 2
   },
   "file_extension": ".py",
   "mimetype": "text/x-python",
   "name": "python",
   "nbconvert_exporter": "python",
   "pygments_lexer": "ipython2",
   "version": "2.7.6"
  }
 },
 "nbformat": 4,
 "nbformat_minor": 5
}
